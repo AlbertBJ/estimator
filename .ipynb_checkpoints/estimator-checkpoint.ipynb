{
 "cells": [
  {
   "cell_type": "markdown",
   "metadata": {},
   "source": [
    "# 结合estimator_template中的说明 "
   ]
  },
  {
   "cell_type": "code",
   "execution_count": 1,
   "metadata": {},
   "outputs": [],
   "source": [
    "import tensorflow as tf"
   ]
  },
  {
   "cell_type": "code",
   "execution_count": 2,
   "metadata": {},
   "outputs": [],
   "source": [
    "def create_model(features,feature_columns,hidden_units,output_cls):\n",
    "    inputs=tf.feature_column.input_layer(features=features,feature_columns=feature_columns)\n",
    "    \n",
    "    # define hidden layer\n",
    "    for units in hidden_units:\n",
    "        inputs=tf.layers.dense(inputs=inputs,units=units,activation=tf.nn.relu)\n",
    "    # define output layer\n",
    "    logits=tf.layers.dense(inputs=inputs,units=output_cls)\n",
    "    return logits   \n"
   ]
  },
  {
   "cell_type": "code",
   "execution_count": 3,
   "metadata": {
    "code_folding": []
   },
   "outputs": [],
   "source": [
    "def model_fn_builder(lr):\n",
    "    \n",
    "    def model_fn(features, labels, mode, params,config):\n",
    "        \n",
    "        # get unscaled data\n",
    "        logits=create_model(features,params['feature_columns'],params['hidden_units'],params['output_cls'])\n",
    "        \n",
    "        predict_cls=tf.math.argmax(input=logits,axis=1)\n",
    "        predict_pro=tf.nn.softmax(logits=logits,axis=1)\n",
    "        # is_predict=true: predict,else train or \n",
    "        is_predict=(mode==tf.estimator.ModeKeys.PREDICT)\n",
    "        \n",
    "        if not is_predict:\n",
    "            # train .eval\n",
    "            loss=tf.losses.sparse_softmax_cross_entropy(labels=labels,logits=logits)\n",
    "               \n",
    "            def metric_fn(labels,predictions):\n",
    "                '''\n",
    "                define metrics\n",
    "                '''\n",
    "                accuracy,accuracy_update=tf.metrics.accuracy(labels=labels,predictions=predictions,name='iris_accuracy')\n",
    "#                 auc=tf.metrics.auc(labels=labels,predictions=predictions,name='iris_auc')\n",
    "                recall,recall_update=tf.metrics.recall(labels=labels,predictions=predictions,name='iris_recall')\n",
    "                precision,precision_update=tf.metrics.precision(labels=labels,predictions=predictions,name='iris_precision')\n",
    "#                 with tf.control_dependencies([recall,precision]):\n",
    "#                     f1_score=f1(recall=recall,precision=precision)\n",
    "                \n",
    "                return {\n",
    "                    'accuracy':(accuracy,accuracy_update),\n",
    "#                     'auc':auc,\n",
    "                    'recall':(recall,recall_update),\n",
    "                    'precision':(precision,precision_update)\n",
    "#                     'f1_score':f1_score                    \n",
    "                }\n",
    "                    \n",
    "                \n",
    "            if mode==tf.estimator.ModeKeys.EVAL:\n",
    "                return tf.estimator.EstimatorSpec(mode=mode,loss=loss,eval_metric_ops=metric_fn(labels,predict_cls))\n",
    "            \n",
    "            # train process\n",
    "            train_op=tf.train.AdamOptimizer(learning_rate=lr).minimize(loss=loss,global_step=tf.train.get_global_step())\n",
    "            return tf.estimator.EstimatorSpec(mode=mode,loss=loss,train_op=train_op,eval_metric_ops=metric_fn(labels,predict_cls))\n",
    "                \n",
    "        \n",
    "        else:\n",
    "            predictions={'predict_cls':predict_cls,'predict_pro':predict_pro}\n",
    "            return tf.estimator.EstimatorSpec(mode=mode,predictions=predictions)     \n",
    "    return model_fn"
   ]
  },
  {
   "cell_type": "code",
   "execution_count": 4,
   "metadata": {},
   "outputs": [],
   "source": [
    "TRAIN_URL = \"http://download.tensorflow.org/data/iris_training.csv\"\n",
    "TEST_URL = \"http://download.tensorflow.org/data/iris_test.csv\"\n",
    "def downloadfiles():\n",
    "    train_path = tf.keras.utils.get_file(r'F:\\testDemo\\AI\\estimator\\data\\train.csv', TRAIN_URL)\n",
    "    test_path = tf.keras.utils.get_file(r'F:\\testDemo\\AI\\estimator\\data\\test.csv', TEST_URL)\n",
    "    return train_path,test_path"
   ]
  },
  {
   "cell_type": "code",
   "execution_count": 5,
   "metadata": {},
   "outputs": [
    {
     "name": "stdout",
     "output_type": "stream",
     "text": [
      "F:\\testDemo\\AI\\estimator\\data\\train.csv\n",
      "F:\\testDemo\\AI\\estimator\\data\\test.csv\n"
     ]
    }
   ],
   "source": [
    "train_path,test_path=downloadfiles()\n",
    "print(train_path)\n",
    "print(test_path)"
   ]
  },
  {
   "cell_type": "code",
   "execution_count": 6,
   "metadata": {},
   "outputs": [],
   "source": [
    "CSV_TYPES=[[0.0], [0.0], [0.0], [0.0], [0]]\n",
    "CSV_COLUMN_NAMES = ['SepalLength', 'SepalWidth',\n",
    "                    'PetalLength', 'PetalWidth', 'label']\n",
    "label = ['Setosa', 'Versicolor', 'Virginica']\n",
    "BATCH_SIZE=16\n",
    "EPOCHS=200"
   ]
  },
  {
   "cell_type": "code",
   "execution_count": 7,
   "metadata": {},
   "outputs": [],
   "source": [
    "def train_input_fn_builder(file_path,batch_size,epochs):\n",
    "    '''\n",
    "    创建 输入函数闭包\n",
    "    '''\n",
    "    def parse_line(line):\n",
    "        '''\n",
    "        parse csv line to features fromat\n",
    "        '''\n",
    "        CSV_TYPES=[[0.0], [0.0], [0.0], [0.0], [0]]\n",
    "        fileds=tf.decode_csv(line,record_defaults=CSV_TYPES)\n",
    "        features=dict(zip(CSV_COLUMN_NAMES,fileds))\n",
    "        label=features.pop('label')\n",
    "        return features,label\n",
    "        \n",
    "    # 可以执行其它操作\n",
    "    \n",
    "    def input_fn():\n",
    "        \n",
    "        dataset=tf.data.TextLineDataset(file_path).skip(1)\n",
    "        dataset=dataset.map(parse_line)\n",
    "        dataset=dataset.shuffle(1000).repeat(epochs).batch(batch_size)\n",
    "        return dataset # 返回的 顺序要和 model_fn一致 或者 dataset元素 格式为（features,label）元组 也可以\n",
    "    return input_fn"
   ]
  },
  {
   "cell_type": "code",
   "execution_count": 8,
   "metadata": {},
   "outputs": [],
   "source": [
    "model_dir=r'F:\\testDemo\\AI\\estimator\\model'\n",
    "params={}\n",
    "feature_columns=[]\n",
    "for i in range(len(CSV_COLUMN_NAMES)-1):\n",
    "    feature_columns.append(tf.feature_column.numeric_column(CSV_COLUMN_NAMES[i]))\n",
    "hidden_units=[128,256,256]\n",
    "output_cls=len(label)\n",
    "params['feature_columns']=feature_columns\n",
    "params['hidden_units']=hidden_units\n",
    "params['output_cls']=output_cls\n"
   ]
  },
  {
   "cell_type": "code",
   "execution_count": 9,
   "metadata": {},
   "outputs": [
    {
     "data": {
      "text/plain": [
       "[NumericColumn(key='SepalLength', shape=(1,), default_value=None, dtype=tf.float32, normalizer_fn=None),\n",
       " NumericColumn(key='SepalWidth', shape=(1,), default_value=None, dtype=tf.float32, normalizer_fn=None),\n",
       " NumericColumn(key='PetalLength', shape=(1,), default_value=None, dtype=tf.float32, normalizer_fn=None),\n",
       " NumericColumn(key='PetalWidth', shape=(1,), default_value=None, dtype=tf.float32, normalizer_fn=None)]"
      ]
     },
     "execution_count": 9,
     "metadata": {},
     "output_type": "execute_result"
    }
   ],
   "source": [
    "feature_columns"
   ]
  },
  {
   "cell_type": "code",
   "execution_count": 10,
   "metadata": {},
   "outputs": [
    {
     "name": "stdout",
     "output_type": "stream",
     "text": [
      "INFO:tensorflow:Using config: {'_model_dir': 'F:\\\\testDemo\\\\AI\\\\estimator\\\\model', '_tf_random_seed': None, '_save_summary_steps': 100, '_save_checkpoints_steps': 100, '_save_checkpoints_secs': None, '_session_config': allow_soft_placement: true\n",
      "graph_options {\n",
      "  rewrite_options {\n",
      "    meta_optimizer_iterations: ONE\n",
      "  }\n",
      "}\n",
      ", '_keep_checkpoint_max': 5, '_keep_checkpoint_every_n_hours': 10000, '_log_step_count_steps': 100, '_train_distribute': None, '_device_fn': None, '_protocol': None, '_eval_distribute': None, '_experimental_distribute': None, '_service': None, '_cluster_spec': <tensorflow.python.training.server_lib.ClusterSpec object at 0x000001E8DDB65C18>, '_task_type': 'worker', '_task_id': 0, '_global_id_in_cluster': 0, '_master': '', '_evaluation_master': '', '_is_chief': True, '_num_ps_replicas': 0, '_num_worker_replicas': 1}\n"
     ]
    }
   ],
   "source": [
    "config=tf.estimator.RunConfig(save_checkpoints_steps=100)\n",
    "\n",
    "estimator=tf.estimator.Estimator(model_fn=model_fn_builder(0.001),model_dir=model_dir,params=params,config=config)"
   ]
  },
  {
   "cell_type": "code",
   "execution_count": 11,
   "metadata": {},
   "outputs": [
    {
     "name": "stdout",
     "output_type": "stream",
     "text": [
      "WARNING:tensorflow:From E:\\Python\\virtualenv\\NER\\lib\\site-packages\\tensorflow\\python\\framework\\op_def_library.py:263: colocate_with (from tensorflow.python.framework.ops) is deprecated and will be removed in a future version.\n",
      "Instructions for updating:\n",
      "Colocations handled automatically by placer.\n",
      "INFO:tensorflow:Calling model_fn.\n",
      "WARNING:tensorflow:From E:\\Python\\virtualenv\\NER\\lib\\site-packages\\tensorflow\\python\\feature_column\\feature_column.py:205: NumericColumn._get_dense_tensor (from tensorflow.python.feature_column.feature_column_v2) is deprecated and will be removed after 2018-11-30.\n",
      "Instructions for updating:\n",
      "The old _FeatureColumn APIs are being deprecated. Please use the new FeatureColumn APIs instead.\n",
      "WARNING:tensorflow:From E:\\Python\\virtualenv\\NER\\lib\\site-packages\\tensorflow\\python\\feature_column\\feature_column.py:2121: NumericColumn._transform_feature (from tensorflow.python.feature_column.feature_column_v2) is deprecated and will be removed after 2018-11-30.\n",
      "Instructions for updating:\n",
      "The old _FeatureColumn APIs are being deprecated. Please use the new FeatureColumn APIs instead.\n",
      "WARNING:tensorflow:From E:\\Python\\virtualenv\\NER\\lib\\site-packages\\tensorflow\\python\\feature_column\\feature_column_v2.py:2703: to_float (from tensorflow.python.ops.math_ops) is deprecated and will be removed in a future version.\n",
      "Instructions for updating:\n",
      "Use tf.cast instead.\n",
      "WARNING:tensorflow:From E:\\Python\\virtualenv\\NER\\lib\\site-packages\\tensorflow\\python\\feature_column\\feature_column.py:206: NumericColumn._variable_shape (from tensorflow.python.feature_column.feature_column_v2) is deprecated and will be removed after 2018-11-30.\n",
      "Instructions for updating:\n",
      "The old _FeatureColumn APIs are being deprecated. Please use the new FeatureColumn APIs instead.\n",
      "WARNING:tensorflow:From <ipython-input-2-e18708218f55>:6: dense (from tensorflow.python.layers.core) is deprecated and will be removed in a future version.\n",
      "Instructions for updating:\n",
      "Use keras.layers.dense instead.\n",
      "WARNING:tensorflow:From E:\\Python\\virtualenv\\NER\\lib\\site-packages\\tensorflow\\python\\ops\\metrics_impl.py:2176: div (from tensorflow.python.ops.math_ops) is deprecated and will be removed in a future version.\n",
      "Instructions for updating:\n",
      "Deprecated in favor of operator or tf.math.divide.\n",
      "INFO:tensorflow:Done calling model_fn.\n",
      "INFO:tensorflow:Create CheckpointSaverHook.\n",
      "INFO:tensorflow:Graph was finalized.\n",
      "WARNING:tensorflow:From E:\\Python\\virtualenv\\NER\\lib\\site-packages\\tensorflow\\python\\training\\saver.py:1266: checkpoint_exists (from tensorflow.python.training.checkpoint_management) is deprecated and will be removed in a future version.\n",
      "Instructions for updating:\n",
      "Use standard file APIs to check for files with this prefix.\n",
      "INFO:tensorflow:Restoring parameters from F:\\testDemo\\AI\\estimator\\model\\model.ckpt-3000\n",
      "WARNING:tensorflow:From E:\\Python\\virtualenv\\NER\\lib\\site-packages\\tensorflow\\python\\training\\saver.py:1070: get_checkpoint_mtimes (from tensorflow.python.training.checkpoint_management) is deprecated and will be removed in a future version.\n",
      "Instructions for updating:\n",
      "Use standard file utilities to get mtimes.\n",
      "INFO:tensorflow:Running local_init_op.\n",
      "INFO:tensorflow:Done running local_init_op.\n",
      "INFO:tensorflow:Saving checkpoints for 3000 into F:\\testDemo\\AI\\estimator\\model\\model.ckpt.\n",
      "INFO:tensorflow:loss = 0.01082344, step = 3001\n",
      "INFO:tensorflow:Saving checkpoints for 3100 into F:\\testDemo\\AI\\estimator\\model\\model.ckpt.\n",
      "WARNING:tensorflow:From E:\\Python\\virtualenv\\NER\\lib\\site-packages\\tensorflow\\python\\training\\saver.py:966: remove_checkpoint (from tensorflow.python.training.checkpoint_management) is deprecated and will be removed in a future version.\n",
      "Instructions for updating:\n",
      "Use standard file APIs to delete files with this prefix.\n",
      "INFO:tensorflow:global_step/sec: 133.742\n",
      "INFO:tensorflow:loss = 0.018133745, step = 3101 (0.750 sec)\n",
      "INFO:tensorflow:Saving checkpoints for 3200 into F:\\testDemo\\AI\\estimator\\model\\model.ckpt.\n",
      "INFO:tensorflow:global_step/sec: 148.189\n",
      "INFO:tensorflow:loss = 0.12228938, step = 3201 (0.675 sec)\n",
      "INFO:tensorflow:Saving checkpoints for 3300 into F:\\testDemo\\AI\\estimator\\model\\model.ckpt.\n",
      "INFO:tensorflow:global_step/sec: 197.549\n",
      "INFO:tensorflow:loss = 0.0011209293, step = 3301 (0.505 sec)\n",
      "INFO:tensorflow:Saving checkpoints for 3400 into F:\\testDemo\\AI\\estimator\\model\\model.ckpt.\n",
      "INFO:tensorflow:global_step/sec: 173.427\n",
      "INFO:tensorflow:loss = 0.006318936, step = 3401 (0.577 sec)\n",
      "INFO:tensorflow:Saving checkpoints for 3500 into F:\\testDemo\\AI\\estimator\\model\\model.ckpt.\n",
      "INFO:tensorflow:global_step/sec: 181.23\n",
      "INFO:tensorflow:loss = 0.0052614687, step = 3501 (0.552 sec)\n",
      "INFO:tensorflow:Saving checkpoints for 3600 into F:\\testDemo\\AI\\estimator\\model\\model.ckpt.\n",
      "INFO:tensorflow:global_step/sec: 119.049\n",
      "INFO:tensorflow:loss = 0.00245519, step = 3601 (0.840 sec)\n",
      "INFO:tensorflow:Saving checkpoints for 3700 into F:\\testDemo\\AI\\estimator\\model\\model.ckpt.\n",
      "INFO:tensorflow:global_step/sec: 205.312\n",
      "INFO:tensorflow:loss = 0.16207501, step = 3701 (0.488 sec)\n",
      "INFO:tensorflow:Saving checkpoints for 3800 into F:\\testDemo\\AI\\estimator\\model\\model.ckpt.\n",
      "INFO:tensorflow:global_step/sec: 170.745\n",
      "INFO:tensorflow:loss = 0.004686975, step = 3801 (0.586 sec)\n",
      "INFO:tensorflow:Saving checkpoints for 3900 into F:\\testDemo\\AI\\estimator\\model\\model.ckpt.\n",
      "INFO:tensorflow:global_step/sec: 161.731\n",
      "INFO:tensorflow:loss = 0.0074499543, step = 3901 (0.618 sec)\n",
      "INFO:tensorflow:Saving checkpoints for 4000 into F:\\testDemo\\AI\\estimator\\model\\model.ckpt.\n",
      "INFO:tensorflow:global_step/sec: 167.939\n",
      "INFO:tensorflow:loss = 0.020408094, step = 4001 (0.595 sec)\n",
      "INFO:tensorflow:Saving checkpoints for 4100 into F:\\testDemo\\AI\\estimator\\model\\model.ckpt.\n",
      "INFO:tensorflow:global_step/sec: 179.629\n",
      "INFO:tensorflow:loss = 0.0038166558, step = 4101 (0.557 sec)\n",
      "INFO:tensorflow:Saving checkpoints for 4200 into F:\\testDemo\\AI\\estimator\\model\\model.ckpt.\n",
      "INFO:tensorflow:global_step/sec: 172.155\n",
      "INFO:tensorflow:loss = 0.005533036, step = 4201 (0.582 sec)\n",
      "INFO:tensorflow:Saving checkpoints for 4300 into F:\\testDemo\\AI\\estimator\\model\\model.ckpt.\n",
      "INFO:tensorflow:global_step/sec: 168.795\n",
      "INFO:tensorflow:loss = 0.016657762, step = 4301 (0.591 sec)\n",
      "INFO:tensorflow:Saving checkpoints for 4400 into F:\\testDemo\\AI\\estimator\\model\\model.ckpt.\n",
      "INFO:tensorflow:global_step/sec: 188.529\n",
      "INFO:tensorflow:loss = 0.012228463, step = 4401 (0.529 sec)\n",
      "INFO:tensorflow:Saving checkpoints for 4500 into F:\\testDemo\\AI\\estimator\\model\\model.ckpt.\n",
      "INFO:tensorflow:Loss for final step: 0.12510745.\n"
     ]
    }
   ],
   "source": [
    "train=estimator.train(input_fn=train_input_fn_builder(file_path=train_path,batch_size=BATCH_SIZE,epochs=EPOCHS),steps=10000)"
   ]
  },
  {
   "cell_type": "code",
   "execution_count": 12,
   "metadata": {},
   "outputs": [],
   "source": [
    "def eval_input_fn_builder(file_path,batch_size):\n",
    "    '''\n",
    "    创建 输入函数闭包\n",
    "    '''\n",
    "    def parse_line(line):\n",
    "        '''\n",
    "        parse csv line to features fromat\n",
    "        '''\n",
    "        CSV_TYPES=[[0.0], [0.0], [0.0], [0.0], [0]]\n",
    "        fileds=tf.decode_csv(line,record_defaults=CSV_TYPES)\n",
    "        features=dict(zip(CSV_COLUMN_NAMES,fileds))\n",
    "        label=features.pop('label')\n",
    "        return features,label\n",
    "        \n",
    "    # 可以执行其它操作\n",
    "    \n",
    "    def input_fn():\n",
    "        \n",
    "        dataset=tf.data.TextLineDataset(file_path).skip(1)\n",
    "        dataset=dataset.map(parse_line)\n",
    "        dataset=dataset.batch(batch_size)\n",
    "#         dataset=dataset.shuffle(1000).repeat(epochs).batch(batch_size)\n",
    "        return dataset # 返回的 顺序要和 model_fn一致 或者 dataset元素 格式为（features,label）元组 也可以\n",
    "    return input_fn"
   ]
  },
  {
   "cell_type": "code",
   "execution_count": 13,
   "metadata": {},
   "outputs": [
    {
     "name": "stdout",
     "output_type": "stream",
     "text": [
      "INFO:tensorflow:Calling model_fn.\n",
      "INFO:tensorflow:Done calling model_fn.\n",
      "INFO:tensorflow:Starting evaluation at 2019-05-24T05:55:41Z\n",
      "INFO:tensorflow:Graph was finalized.\n",
      "INFO:tensorflow:Restoring parameters from F:\\testDemo\\AI\\estimator\\model\\model.ckpt-4500\n",
      "INFO:tensorflow:Running local_init_op.\n",
      "INFO:tensorflow:Done running local_init_op.\n",
      "INFO:tensorflow:Finished evaluation at 2019-05-24-05:55:42\n",
      "INFO:tensorflow:Saving dict for global step 4500: accuracy = 0.96666664, global_step = 4500, loss = 0.07208302, precision = 1.0, recall = 1.0\n",
      "INFO:tensorflow:Saving 'checkpoint_path' summary for global step 4500: F:\\testDemo\\AI\\estimator\\model\\model.ckpt-4500\n"
     ]
    },
    {
     "data": {
      "text/plain": [
       "{'accuracy': 0.96666664,\n",
       " 'loss': 0.07208302,\n",
       " 'precision': 1.0,\n",
       " 'recall': 1.0,\n",
       " 'global_step': 4500}"
      ]
     },
     "execution_count": 13,
     "metadata": {},
     "output_type": "execute_result"
    }
   ],
   "source": [
    "estimator.evaluate(input_fn=eval_input_fn_builder(test_path,16))"
   ]
  },
  {
   "cell_type": "code",
   "execution_count": 14,
   "metadata": {},
   "outputs": [],
   "source": [
    "def serving_input_receiver_fn():\n",
    "    input_str=tf.placeholder(tf.string,name='inputss')\n",
    "    \n",
    "    tt=tf.string_split(input_str,',').values\n",
    "    SepalLength=tf.string_to_number([tt[0]],tf.float32)\n",
    "    SepalWidth=tf.string_to_number([tt[1]],tf.float32)\n",
    "    PetalLength=tf.string_to_number([tt[2]],tf.float32)\n",
    "    PetalWidth=tf.string_to_number([tt[3]],tf.float32)\n",
    "    \n",
    "    \n",
    "    receiver_tensors = {'inputsd': input_str}\n",
    "   \n",
    "    features = {\n",
    "       'SepalLength': SepalLength,\n",
    "          'SepalWidth': SepalWidth,\n",
    "          'PetalLength':  PetalLength,\n",
    "          'PetalWidth':  PetalWidth,\n",
    "    }   \n",
    "    \n",
    "    return tf.estimator.export.ServingInputReceiver(features,receiver_tensors)\n",
    "    \n",
    "    "
   ]
  },
  {
   "cell_type": "code",
   "execution_count": 15,
   "metadata": {},
   "outputs": [
    {
     "name": "stdout",
     "output_type": "stream",
     "text": [
      "INFO:tensorflow:Calling model_fn.\n",
      "INFO:tensorflow:Done calling model_fn.\n",
      "WARNING:tensorflow:From E:\\Python\\virtualenv\\NER\\lib\\site-packages\\tensorflow\\python\\saved_model\\signature_def_utils_impl.py:205: build_tensor_info (from tensorflow.python.saved_model.utils_impl) is deprecated and will be removed in a future version.\n",
      "Instructions for updating:\n",
      "This function will only be available through the v1 compatibility library as tf.compat.v1.saved_model.utils.build_tensor_info or tf.compat.v1.saved_model.build_tensor_info.\n",
      "INFO:tensorflow:Signatures INCLUDED in export for Classify: None\n",
      "INFO:tensorflow:Signatures INCLUDED in export for Regress: None\n",
      "INFO:tensorflow:Signatures INCLUDED in export for Predict: ['serving_default']\n",
      "INFO:tensorflow:Signatures INCLUDED in export for Train: None\n",
      "INFO:tensorflow:Signatures INCLUDED in export for Eval: None\n",
      "INFO:tensorflow:Restoring parameters from F:\\testDemo\\AI\\estimator\\model\\model.ckpt-4500\n",
      "INFO:tensorflow:Assets added to graph.\n",
      "INFO:tensorflow:No assets to write.\n",
      "INFO:tensorflow:SavedModel written to: export_base\\temp-b'1558677343'\\saved_model.pb\n"
     ]
    },
    {
     "data": {
      "text/plain": [
       "b'export_base\\\\1558677343'"
      ]
     },
     "execution_count": 15,
     "metadata": {},
     "output_type": "execute_result"
    }
   ],
   "source": [
    "estimator.export_savedmodel('export_base',serving_input_receiver_fn=serving_input_receiver_fn)"
   ]
  },
  {
   "cell_type": "code",
   "execution_count": null,
   "metadata": {},
   "outputs": [],
   "source": []
  }
 ],
 "metadata": {
  "kernelspec": {
   "display_name": "py3_NER",
   "language": "python",
   "name": "ner"
  },
  "language_info": {
   "codemirror_mode": {
    "name": "ipython",
    "version": 3
   },
   "file_extension": ".py",
   "mimetype": "text/x-python",
   "name": "python",
   "nbconvert_exporter": "python",
   "pygments_lexer": "ipython3",
   "version": "3.6.1"
  }
 },
 "nbformat": 4,
 "nbformat_minor": 2
}
